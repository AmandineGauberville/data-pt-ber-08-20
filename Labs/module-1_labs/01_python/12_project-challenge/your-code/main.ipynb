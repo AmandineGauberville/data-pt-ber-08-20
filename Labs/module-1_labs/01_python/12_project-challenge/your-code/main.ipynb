{
 "cells": [
  {
   "cell_type": "markdown",
   "metadata": {},
   "source": [
    "## Challenge A: Password Validator\n",
    "\n",
    "#### Description\n",
    "Your job is to create a simple password validation function, as seen on many websites.\n",
    "\n",
    "The rules for a valid password are as follows:\n",
    "\n",
    "There needs to be at least 1 uppercase letter.\n",
    "There needs to be at least 1 lowercase letter.\n",
    "There needs to be at least 1 number.\n",
    "The password needs to be at least 8 characters long.\n",
    "\n",
    "\n",
    "*You are permitted to use any methods to validate the password.*"
   ]
  },
  {
   "cell_type": "code",
   "execution_count": 8,
   "metadata": {},
   "outputs": [
    {
     "name": "stdout",
     "output_type": "stream",
     "text": [
      "*** Welcome on our site ! ***\n",
      "\n",
      "Now to finalize your inscription, we need to record your new password :)\n",
      "\n",
      "Please, to create a secure password, you have to respect these conditions : \n",
      "- at least 1 uppercase letter. \n",
      "- at least 1 lowercase letter. \n",
      "- at least 1 number. \n",
      "- The password needs to be at least 8 characters long. \n",
      "\n"
     ]
    },
    {
     "name": "stdin",
     "output_type": "stream",
     "text": [
      "Enter here your new password :\n",
      " aerter643YUDF-\n"
     ]
    },
    {
     "name": "stdout",
     "output_type": "stream",
     "text": [
      "Your password is valid\n",
      "\n"
     ]
    }
   ],
   "source": [
    "import re\n",
    "\n",
    "\n",
    "#Texte de bienvenue, création et conditions du mot de passe par l'utilisateur\n",
    "print(\"*** Welcome on our site ! ***\\n\\n\"\n",
    "    \"Now to finalize your inscription, we need to record your new password :)\\n\\n\"\n",
    "    \"Please, to create a secure password, you have to respect these conditions : \\n\"\n",
    "    \"- at least 1 special character except space. \\n\" \n",
    "    \"- at least 1 uppercase letter. \\n\"\n",
    "    \"- at least 1 lowercase letter. \\n\"\n",
    "    \"- at least 1 number. \\n\"\n",
    "    \"- The password needs to be at least 8 characters long. \\n\"\n",
    "    )\n",
    "\n",
    "\n",
    "#Fonction pour tester si au moins 1 majuscule\n",
    "def test_uppercase(myString):\n",
    "    if re.search('[A-Z]', myString) == None:\n",
    "        return False\n",
    "        print(\"The password needs at least 1 uppercase letter.\")\n",
    "    return True\n",
    "    \n",
    "    \n",
    "#Fonction pour tester si au moins 1 minuscule\n",
    "def test_lowercase(myString):\n",
    "    if re.search('[a-z]', myString) == None:\n",
    "        return False\n",
    "        print(\"The password needs at least 1 lowercase letter.\")\n",
    "    return True\n",
    "\n",
    "#Fonction pour tester si au moins 1 chiffre\n",
    "def test_number(myString):\n",
    "    if re.search('\\d', myString) == None:\n",
    "        return False\n",
    "        print(\"The password needs at least 1 number.\")\n",
    "    return True\n",
    "    \n",
    "\n",
    "#Fonction pour tester si caractère espace dans le mot de passe, caractère interdit\n",
    "def test_space(myString):\n",
    "    if re.search('\\s', myString) == None:\n",
    "        return True\n",
    "    print(\"The space is not allowed\")\n",
    "    return False\n",
    "    \n",
    "    \n",
    "#Fonction pour tester si au moins 8 caractères\n",
    "def test_len_characters(myString):\n",
    "    total_characters = len(myString)\n",
    "    if total_characters < 8:\n",
    "        print(\"The password needs to be at least 8 characters long.\")\n",
    "        return False\n",
    "    return True\n",
    "    \n",
    "#Fonction pour tester s'il y a un caractère spécial\n",
    "def test_special_characters(myString):\n",
    "    if re.search('[^A-Za-z0-9]', myString) == None:\n",
    "        print(\"Password must have special char\")\n",
    "        return False\n",
    "    return True\n",
    "\n",
    "#Fonction pour vérifier la validité du mot de passe\n",
    "def verify_password(myString):\n",
    "    return (test_uppercase(myString) and test_lowercase(myString) and test_number(myString) \n",
    "            and test_space(myString) and test_len_characters(myString)\n",
    "            and test_special_characters(myString))\n",
    "\n",
    "#Boucle de création de mot de passe valide, si non, l'utilisateur doit recommencer\n",
    "while True:\n",
    "    ask_password = input('Enter here your new password :\\n')\n",
    "    if not verify_password(ask_password):\n",
    "        print('Your password is not valid, please restart !\\n')\n",
    "    else:\n",
    "        print('Your password is valid\\n')\n",
    "        break\n"
   ]
  },
  {
   "cell_type": "code",
   "execution_count": null,
   "metadata": {
    "tags": []
   },
   "outputs": [],
   "source": []
  },
  {
   "cell_type": "code",
   "execution_count": null,
   "metadata": {},
   "outputs": [],
   "source": []
  }
 ],
 "metadata": {
  "kernelspec": {
   "display_name": "Python 3",
   "language": "python",
   "name": "python3"
  },
  "language_info": {
   "codemirror_mode": {
    "name": "ipython",
    "version": 3
   },
   "file_extension": ".py",
   "mimetype": "text/x-python",
   "name": "python",
   "nbconvert_exporter": "python",
   "pygments_lexer": "ipython3",
   "version": "3.8.5"
  }
 },
 "nbformat": 4,
 "nbformat_minor": 4
}
