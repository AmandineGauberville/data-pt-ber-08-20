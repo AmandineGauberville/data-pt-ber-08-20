{
 "cells": [
  {
   "cell_type": "markdown",
   "metadata": {},
   "source": [
    "## Challenge A: Password Validator\n",
    "\n",
    "#### Description\n",
    "Your job is to create a simple password validation function, as seen on many websites.\n",
    "\n",
    "The rules for a valid password are as follows:\n",
    "\n",
    "There needs to be at least 1 uppercase letter.\n",
    "There needs to be at least 1 lowercase letter.\n",
    "There needs to be at least 1 number.\n",
    "The password needs to be at least 8 characters long.\n",
    "\n",
    "\n",
    "*You are permitted to use any methods to validate the password.*"
   ]
  },
  {
   "cell_type": "code",
   "execution_count": null,
   "metadata": {},
   "outputs": [],
   "source": [
    "import re\n",
    "\n",
    "#Texte de bienvenue et création et conditions du mot de passe par l'utilisateur\n",
    "\n",
    "print(\"*** Welcome on our site ! ***\\n\\n\"\n",
    "    \"Now to finalize your inscription, we need to record your new password :)\\n\\n\"\n",
    "    \"Please, to create a secure password, you have to respect these conditions : \\n\"\n",
    "    \"- at least 1 uppercase letter. \\n\"\n",
    "    \"- at least 1 lowercase letter. \\n\"\n",
    "    \"- at least 1 number. \\n\"\n",
    "    \"- The password needs to be at least 8 characters long. \\n\"\n",
    "    )"
   ]
  },
  {
   "cell_type": "code",
   "execution_count": 4,
   "metadata": {},
   "outputs": [],
   "source": [
    "def test_len_characters(str4):\n",
    "    total_characters = len(str4)\n",
    "    if total_characters < 8:\n",
    "        return 1\n",
    "    else:\n",
    "        return 0"
   ]
  },
  {
   "cell_type": "code",
   "execution_count": null,
   "metadata": {},
   "outputs": [
    {
     "name": "stdout",
     "output_type": "stream",
     "text": [
      "Enter here your new passwordTest01\n",
      "Votre mot de passe n'est pas sécurisé\n",
      "Enter here your new passwordTessssst01\n",
      "Votre mot de passe est valide\n",
      "Enter here your new password1111111111\n",
      "Votre mot de passe n'est pas sécurisé\n",
      "Enter here your new passwordaaaaaaaaa\n",
      "Votre mot de passe n'est pas sécurisé\n",
      "Enter here your new passworda\n",
      "Votre mot de passe n'est pas sécurisé\n",
      "Enter here your new password10\n",
      "Votre mot de passe n'est pas sécurisé\n",
      "Enter here your new passwordTesssst0001\n",
      "Votre mot de passe est valide\n"
     ]
    }
   ],
   "source": [
    "#Fonction pour tester si au moins 1 majuscule\n",
    "\n",
    "def test_uppercase(str1):\n",
    "    if len(re.findall('[A-Z]', str1)) >= 1:\n",
    "        return 0\n",
    "    else:\n",
    "        return 1\n",
    "    \n",
    "#Fonction pour tester si au moins 1 minuscule\n",
    "\n",
    "def test_lowercase(str2):\n",
    "    if len(re.findall('[a-z]', str2)) >= 1:\n",
    "        return 0\n",
    "    else:\n",
    "        return 1\n",
    "\n",
    "#Fonction pour tester si au moins 1 chiffre\n",
    "\n",
    "def test_number(str3):\n",
    "    if len(re.findall('\\d', str3)) >= 1:\n",
    "        return 0\n",
    "    else:\n",
    "        return 1\n",
    "\n",
    "#Fonction pour test test\n",
    "def test_all(int1, int2, int3, int4):\n",
    "    if int1 + int2 + int3 + int4 > 0:\n",
    "        return True\n",
    "    else:\n",
    "        return False\n",
    "\n",
    "while True:\n",
    "    ask_password = input('Enter here your new password')\n",
    "    if test_all(test_len_characters(ask_password), test_uppercase(ask_password), \n",
    "                test_lowercase(ask_password), test_number(ask_password)) > 0:\n",
    "        print('Votre mot de passe n\\'est pas sécurisé')\n",
    "    else:\n",
    "        print('Votre mot de passe est valide')\n",
    "        \n"
   ]
  },
  {
   "cell_type": "code",
   "execution_count": 4,
   "metadata": {},
   "outputs": [],
   "source": []
  }
 ],
 "metadata": {
  "kernelspec": {
   "display_name": "Python 3",
   "language": "python",
   "name": "python3"
  },
  "language_info": {
   "codemirror_mode": {
    "name": "ipython",
    "version": 3
   },
   "file_extension": ".py",
   "mimetype": "text/x-python",
   "name": "python",
   "nbconvert_exporter": "python",
   "pygments_lexer": "ipython3",
   "version": "3.9.1"
  }
 },
 "nbformat": 4,
 "nbformat_minor": 4
}
